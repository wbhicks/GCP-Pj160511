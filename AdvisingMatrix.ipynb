{
 "cells": [
  {
   "cell_type": "code",
   "execution_count": 1,
   "metadata": {
    "collapsed": false
   },
   "outputs": [
    {
     "ename": "ImportError",
     "evalue": "No module named enum",
     "output_type": "error",
     "traceback": [
      "\u001b[1;31m---------------------------------------------------------------------------\u001b[0m",
      "\u001b[1;31mImportError\u001b[0m                               Traceback (most recent call last)",
      "\u001b[1;32m<ipython-input-1-1155ad118430>\u001b[0m in \u001b[0;36m<module>\u001b[1;34m()\u001b[0m\n\u001b[1;32m----> 1\u001b[1;33m \u001b[1;32mfrom\u001b[0m \u001b[0menum\u001b[0m \u001b[1;32mimport\u001b[0m \u001b[0mEnum\u001b[0m\u001b[1;33m\u001b[0m\u001b[0m\n\u001b[0m\u001b[0;32m      2\u001b[0m \u001b[1;32mclass\u001b[0m \u001b[0mModified\u001b[0m\u001b[1;33m(\u001b[0m\u001b[0mEnum\u001b[0m\u001b[1;33m)\u001b[0m\u001b[1;33m:\u001b[0m\u001b[1;33m\u001b[0m\u001b[0m\n\u001b[0;32m      3\u001b[0m     \u001b[0mMEM_NEWER\u001b[0m \u001b[1;33m=\u001b[0m \u001b[1;36m1\u001b[0m\u001b[1;33m\u001b[0m\u001b[0m\n\u001b[0;32m      4\u001b[0m     \u001b[0mIN_SYNC\u001b[0m \u001b[1;33m=\u001b[0m \u001b[1;36m2\u001b[0m\u001b[1;33m\u001b[0m\u001b[0m\n\u001b[0;32m      5\u001b[0m     \u001b[0mDISK_NEWER\u001b[0m \u001b[1;33m=\u001b[0m \u001b[1;36m3\u001b[0m\u001b[1;33m\u001b[0m\u001b[0m\n",
      "\u001b[1;31mImportError\u001b[0m: No module named enum"
     ]
    }
   ],
   "source": [
    "from enum import Enum\n",
    "class Modified(Enum):\n",
    "    MEM_NEWER = 1\n",
    "    IN_SYNC = 2\n",
    "    DISK_NEWER = 3\n",
    "    UNKNOWN = 4"
   ]
  },
  {
   "cell_type": "code",
   "execution_count": 4,
   "metadata": {
    "collapsed": false
   },
   "outputs": [
    {
     "name": "stdout",
     "output_type": "stream",
     "text": [
      "argparse (1.2.1)\n",
      "backports-abc (0.4)\n",
      "backports.ssl-match-hostname (3.5.0.1)\n",
      "brewer2mpl (1.4.1)\n",
      "certifi (2016.2.28)\n",
      "chardet (2.3.0)\n",
      "colorama (0.3.2)\n",
      "cycler (0.10.0)\n",
      "decorator (4.0.9)\n",
      "funcsigs (0.4)\n",
      "functools32 (3.2.3-2)\n",
      "futures (3.0.3)\n",
      "GCPData (0.1.0)\n",
      "GCPDataLab (0.1.0)\n",
      "ggplot (0.6.5)\n",
      "html5lib (0.999)\n",
      "httplib2 (0.9.2)\n",
      "ipykernel (4.3.1)\n",
      "ipython (4.1.2)\n",
      "ipython-genutils (0.1.0)\n",
      "Jinja2 (2.8)\n",
      "jsonschema (2.5.1)\n",
      "jupyter-client (4.2.2)\n",
      "jupyter-core (4.1.0)\n",
      "MarkupSafe (0.23)\n",
      "matplotlib (1.5.1)\n",
      "mistune (0.7.2)\n",
      "mock (1.3.0)\n",
      "nbconvert (4.1.0)\n",
      "nbformat (4.0.1)\n",
      "nose (1.3.7)\n",
      "notebook (4.0.2)\n",
      "numpy (1.11.0)\n",
      "oauth2client (1.4.12)\n",
      "pandas (0.18.0)\n",
      "pandocfilters (1.2.4)\n",
      "path.py (8.1.2)\n",
      "patsy (0.4.1)\n",
      "pbr (1.8.1)\n",
      "pexpect (4.0.1)\n",
      "pickleshare (0.6)\n",
      "pip (1.5.6)\n",
      "protobuf (3.0.0a3)\n",
      "ptyprocess (0.5.1)\n",
      "py-dateutil (2.2)\n",
      "pyasn1 (0.1.9)\n",
      "pyasn1-modules (0.0.8)\n",
      "Pygments (2.1.3)\n",
      "pyparsing (2.1.1)\n",
      "python-dateutil (2.5.2)\n",
      "pytz (2016.3)\n",
      "PyYAML (3.11)\n",
      "pyzmq (14.4.0)\n",
      "requests (2.4.3)\n",
      "rsa (3.4.2)\n",
      "scikit-learn (0.16.1)\n",
      "scipy (0.17.0)\n",
      "seaborn (0.6.0)\n",
      "setuptools (5.5.1)\n",
      "simplegeneric (0.8.1)\n",
      "singledispatch (3.4.0.3)\n",
      "six (1.8.0)\n",
      "statsmodels (0.6.1)\n",
      "sympy (0.7.6)\n",
      "tensorflow (0.6.0)\n",
      "terminado (0.6)\n",
      "tornado (4.3)\n",
      "traitlets (4.2.1)\n",
      "urllib3 (1.9.1)\n",
      "wheel (0.29.0)\n",
      "wsgiref (0.1.2)\n"
     ]
    }
   ],
   "source": [
    "%%bash\n",
    "pip list\n",
    "#ls -al\n",
    "#python --version"
   ]
  },
  {
   "cell_type": "code",
   "execution_count": 8,
   "metadata": {
    "collapsed": false
   },
   "outputs": [
    {
     "ename": "NameError",
     "evalue": "name 'sort' is not defined",
     "output_type": "error",
     "traceback": [
      "\u001b[1;31m---------------------------------------------------------------------------\u001b[0m",
      "\u001b[1;31mNameError\u001b[0m                                 Traceback (most recent call last)",
      "\u001b[1;32m<ipython-input-8-905badd5a3cc>\u001b[0m in \u001b[0;36m<module>\u001b[1;34m()\u001b[0m\n\u001b[0;32m      1\u001b[0m \u001b[1;32mimport\u001b[0m \u001b[0mpip\u001b[0m\u001b[1;33m\u001b[0m\u001b[0m\n\u001b[1;32m----> 2\u001b[1;33m \u001b[1;32mfor\u001b[0m \u001b[0mdist\u001b[0m \u001b[1;32min\u001b[0m \u001b[0msort\u001b[0m\u001b[1;33m(\u001b[0m\u001b[0mpip\u001b[0m\u001b[1;33m.\u001b[0m\u001b[0mget_installed_distributions\u001b[0m\u001b[1;33m(\u001b[0m\u001b[1;33m)\u001b[0m\u001b[1;33m)\u001b[0m\u001b[1;33m:\u001b[0m\u001b[1;33m\u001b[0m\u001b[0m\n\u001b[0m\u001b[0;32m      3\u001b[0m   \u001b[1;32mprint\u001b[0m \u001b[0mdist\u001b[0m\u001b[1;33m\u001b[0m\u001b[0m\n",
      "\u001b[1;31mNameError\u001b[0m: name 'sort' is not defined"
     ]
    }
   ],
   "source": [
    "import pip\n",
    "distros = []\n",
    "for dist in pip.get_installed_distributions():\n",
    "  dist"
   ]
  },
  {
   "cell_type": "code",
   "execution_count": null,
   "metadata": {
    "collapsed": true
   },
   "outputs": [],
   "source": []
  },
  {
   "cell_type": "code",
   "execution_count": null,
   "metadata": {
    "collapsed": true
   },
   "outputs": [],
   "source": []
  }
 ],
 "metadata": {
  "kernelspec": {
   "display_name": "Python 2",
   "language": "python",
   "name": "python2"
  },
  "language_info": {
   "codemirror_mode": {
    "name": "ipython",
    "version": 2
   },
   "file_extension": ".py",
   "mimetype": "text/x-python",
   "name": "python",
   "nbconvert_exporter": "python",
   "pygments_lexer": "ipython2",
   "version": "2.7.9"
  }
 },
 "nbformat": 4,
 "nbformat_minor": 0
}
